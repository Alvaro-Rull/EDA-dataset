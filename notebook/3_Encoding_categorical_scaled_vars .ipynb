{
 "cells": [
  {
   "cell_type": "markdown",
   "id": "c10626ef-18f7-44b8-afc1-7aa08519050b",
   "metadata": {},
   "source": [
    "## Codificación de las variables categoricas, escalado y modelo"
   ]
  },
  {
   "cell_type": "code",
   "execution_count": 1,
   "id": "c30f7d47-8603-40c7-a147-8fe18ab5d26d",
   "metadata": {},
   "outputs": [],
   "source": [
    "import pandas as pd \n",
    "import numpy as np\n",
    "import sklearn\n",
    "from sklearn.pipeline import Pipeline\n",
    "from sklearn import metrics\n",
    "# conda install category_encoders\n",
    "import category_encoders as ce\n",
    "from sklearn.preprocessing import OneHotEncoder\n",
    "from sklearn.ensemble import GradientBoostingClassifier\n",
    "import matplotlib.pyplot as plt\n",
    "import seaborn as sns\n",
    "from sklearn.ensemble import RandomForestClassifier, AdaBoostClassifier\n",
    "from sklearn.preprocessing import StandardScaler\n",
    "\n",
    "from sklearn.metrics import classification_report, confusion_matrix, roc_curve, auc, \\\n",
    "                            silhouette_score, recall_score, precision_score, make_scorer, \\\n",
    "                            roc_auc_score, f1_score, precision_recall_curve, accuracy_score, roc_auc_score, \\\n",
    "                            classification_report, confusion_matrix\n",
    "\n",
    "from sklearn import metrics"
   ]
  },
  {
   "cell_type": "code",
   "execution_count": 2,
   "id": "4d026eab-fc69-4dde-af67-e4cbcfb6cab7",
   "metadata": {},
   "outputs": [],
   "source": [
    "df_fraud_train = pd.read_csv(\"./data_preprocessing/train_df_fraud_preprocessing_missing_outlier.csv\")\\\n",
    "                            .drop('Unnamed: 0', axis=1)\n",
    "                  \n",
    "df_fraud_test = pd.read_csv(\"./data_preprocessing/test_df_fraud_preprocessing_missing_outlier.csv\")\\\n",
    "                            .drop('Unnamed: 0', axis=1)"
   ]
  },
  {
   "cell_type": "markdown",
   "id": "d699ca72-1de5-4618-bf67-ef2752baad38",
   "metadata": {},
   "source": [
    "df_fraud_train.columns"
   ]
  },
  {
   "cell_type": "code",
   "execution_count": 3,
   "id": "83d975ac-758a-4d5d-9ec0-de2629a16ec9",
   "metadata": {},
   "outputs": [
    {
     "data": {
      "text/plain": [
       "payment_type                               object\n",
       "employment_status                          object\n",
       "housing_status                             object\n",
       "source                                     object\n",
       "device_os                                  object\n",
       "month_input                               float64\n",
       "session_length_in_minutes_input           float64\n",
       "credit_risk_score_input                   float64\n",
       "has_other_cards_input                     float64\n",
       "name_email_similarity_input               float64\n",
       "bank_months_count_input                   float64\n",
       "fraud_bool_input                          float64\n",
       "bank_branch_count_8w_input                float64\n",
       "proposed_credit_limit_input               float64\n",
       "velocity_4w_input                         float64\n",
       "velocity_24h_input                        float64\n",
       "date_of_birth_distinct_emails_4w_input    float64\n",
       "prev_address_months_count_input           float64\n",
       "foreign_request_input                     float64\n",
       "intended_balcon_amount_input              float64\n",
       "zip_count_4w_input                        float64\n",
       "velocity_6h_input                         float64\n",
       "customer_age_input                        float64\n",
       "keep_alive_session_input                  float64\n",
       "phone_home_valid_input                    float64\n",
       "phone_mobile_valid_input                  float64\n",
       "current_address_months_count_input        float64\n",
       "income_input                              float64\n",
       "device_fraud_count_input                  float64\n",
       "device_distinct_emails_8w_input           float64\n",
       "days_since_request_input                  float64\n",
       "email_is_free_input                       float64\n",
       "dtype: object"
      ]
     },
     "execution_count": 3,
     "metadata": {},
     "output_type": "execute_result"
    }
   ],
   "source": [
    "df_fraud_train.dtypes"
   ]
  },
  {
   "cell_type": "markdown",
   "id": "26ad0388-e5c0-4dd8-823e-4f43f78ff060",
   "metadata": {},
   "source": [
    "## Codificación de la variable objetivo"
   ]
  },
  {
   "cell_type": "markdown",
   "id": "dfd3c792-0aa7-448e-8dab-f64f25f7fd6f",
   "metadata": {},
   "source": [
    "1 --- if fraud y 0 --- if legit"
   ]
  },
  {
   "cell_type": "code",
   "execution_count": 4,
   "id": "48f2cd1c-8f85-48bf-b6b3-ebf0e1199350",
   "metadata": {},
   "outputs": [
    {
     "data": {
      "text/plain": [
       "fraud_bool_input\n",
       "0.0    791177\n",
       "1.0      8823\n",
       "Name: count, dtype: int64"
      ]
     },
     "execution_count": 4,
     "metadata": {},
     "output_type": "execute_result"
    }
   ],
   "source": [
    "df_fraud_train['fraud_bool_input'].value_counts()"
   ]
  },
  {
   "cell_type": "code",
   "execution_count": 20,
   "id": "5df84906-b029-43f3-ae79-09cd800d22a3",
   "metadata": {},
   "outputs": [],
   "source": [
    "df_fraud_train['fraud_bool_input'] = df_fraud_train['fraud_bool_input']\\\n",
    "                                .map({'Legit': 0, 'Fraud': 1}).astype(float)\n",
    "\n",
    "df_fraud_test['fraud_bool_input'] = df_fraud_test['fraud_bool_input']\\\n",
    "                                .map({'Legit': 0, 'Fraud': 1}).astype(float)"
   ]
  },
  {
   "cell_type": "code",
   "execution_count": 18,
   "id": "f5d3aedb-c4c8-4d05-9cbf-8b63e42a773d",
   "metadata": {},
   "outputs": [
    {
     "data": {
      "text/plain": [
       "Series([], Name: count, dtype: int64)"
      ]
     },
     "execution_count": 18,
     "metadata": {},
     "output_type": "execute_result"
    }
   ],
   "source": [
    "df_fraud_train['fraud_bool_input'].value_counts()"
   ]
  },
  {
   "cell_type": "code",
   "execution_count": 8,
   "id": "1922c377-4b56-4f26-b027-21ee209f1c33",
   "metadata": {},
   "outputs": [],
   "source": [
    "X_train = df_fraud_train.drop('fraud_bool_input',axis=1)\n",
    "X_test = df_fraud_test.drop('fraud_bool_input',axis=1)\n",
    "y_train = df_fraud_train['fraud_bool_input']\n",
    "y_test = df_fraud_test['fraud_bool_input']"
   ]
  },
  {
   "cell_type": "markdown",
   "id": "8d97506f-930e-4cde-ad1b-640331187ed1",
   "metadata": {},
   "source": [
    "### Codificación del resto de variables categoricas"
   ]
  },
  {
   "cell_type": "code",
   "execution_count": 24,
   "id": "652571e0-7b53-4c5d-a07f-d3faba7cffb5",
   "metadata": {},
   "outputs": [],
   "source": [
    "list_columns_cat = list(X_train.select_dtypes(\"object\", \"category\").columns)\n",
    "list_other = list(set(X_train.columns)-set(list_columns_cat))"
   ]
  },
  {
   "cell_type": "code",
   "execution_count": 25,
   "id": "1f99ea4a-2766-4cdf-ad83-b3275acbeaf8",
   "metadata": {},
   "outputs": [],
   "source": [
    "ohe = ce.OneHotEncoder(cols=list_columns_cat)\n",
    "model = ohe.fit(X_train, y_train)"
   ]
  },
  {
   "cell_type": "code",
   "execution_count": 26,
   "id": "1a226e3e-09d5-4e62-ac1f-1f7d803d4ca1",
   "metadata": {},
   "outputs": [
    {
     "data": {
      "text/html": [
       "<style>#sk-container-id-1 {color: black;}#sk-container-id-1 pre{padding: 0;}#sk-container-id-1 div.sk-toggleable {background-color: white;}#sk-container-id-1 label.sk-toggleable__label {cursor: pointer;display: block;width: 100%;margin-bottom: 0;padding: 0.3em;box-sizing: border-box;text-align: center;}#sk-container-id-1 label.sk-toggleable__label-arrow:before {content: \"▸\";float: left;margin-right: 0.25em;color: #696969;}#sk-container-id-1 label.sk-toggleable__label-arrow:hover:before {color: black;}#sk-container-id-1 div.sk-estimator:hover label.sk-toggleable__label-arrow:before {color: black;}#sk-container-id-1 div.sk-toggleable__content {max-height: 0;max-width: 0;overflow: hidden;text-align: left;background-color: #f0f8ff;}#sk-container-id-1 div.sk-toggleable__content pre {margin: 0.2em;color: black;border-radius: 0.25em;background-color: #f0f8ff;}#sk-container-id-1 input.sk-toggleable__control:checked~div.sk-toggleable__content {max-height: 200px;max-width: 100%;overflow: auto;}#sk-container-id-1 input.sk-toggleable__control:checked~label.sk-toggleable__label-arrow:before {content: \"▾\";}#sk-container-id-1 div.sk-estimator input.sk-toggleable__control:checked~label.sk-toggleable__label {background-color: #d4ebff;}#sk-container-id-1 div.sk-label input.sk-toggleable__control:checked~label.sk-toggleable__label {background-color: #d4ebff;}#sk-container-id-1 input.sk-hidden--visually {border: 0;clip: rect(1px 1px 1px 1px);clip: rect(1px, 1px, 1px, 1px);height: 1px;margin: -1px;overflow: hidden;padding: 0;position: absolute;width: 1px;}#sk-container-id-1 div.sk-estimator {font-family: monospace;background-color: #f0f8ff;border: 1px dotted black;border-radius: 0.25em;box-sizing: border-box;margin-bottom: 0.5em;}#sk-container-id-1 div.sk-estimator:hover {background-color: #d4ebff;}#sk-container-id-1 div.sk-parallel-item::after {content: \"\";width: 100%;border-bottom: 1px solid gray;flex-grow: 1;}#sk-container-id-1 div.sk-label:hover label.sk-toggleable__label {background-color: #d4ebff;}#sk-container-id-1 div.sk-serial::before {content: \"\";position: absolute;border-left: 1px solid gray;box-sizing: border-box;top: 0;bottom: 0;left: 50%;z-index: 0;}#sk-container-id-1 div.sk-serial {display: flex;flex-direction: column;align-items: center;background-color: white;padding-right: 0.2em;padding-left: 0.2em;position: relative;}#sk-container-id-1 div.sk-item {position: relative;z-index: 1;}#sk-container-id-1 div.sk-parallel {display: flex;align-items: stretch;justify-content: center;background-color: white;position: relative;}#sk-container-id-1 div.sk-item::before, #sk-container-id-1 div.sk-parallel-item::before {content: \"\";position: absolute;border-left: 1px solid gray;box-sizing: border-box;top: 0;bottom: 0;left: 50%;z-index: -1;}#sk-container-id-1 div.sk-parallel-item {display: flex;flex-direction: column;z-index: 1;position: relative;background-color: white;}#sk-container-id-1 div.sk-parallel-item:first-child::after {align-self: flex-end;width: 50%;}#sk-container-id-1 div.sk-parallel-item:last-child::after {align-self: flex-start;width: 50%;}#sk-container-id-1 div.sk-parallel-item:only-child::after {width: 0;}#sk-container-id-1 div.sk-dashed-wrapped {border: 1px dashed gray;margin: 0 0.4em 0.5em 0.4em;box-sizing: border-box;padding-bottom: 0.4em;background-color: white;}#sk-container-id-1 div.sk-label label {font-family: monospace;font-weight: bold;display: inline-block;line-height: 1.2em;}#sk-container-id-1 div.sk-label-container {text-align: center;}#sk-container-id-1 div.sk-container {/* jupyter's `normalize.less` sets `[hidden] { display: none; }` but bootstrap.min.css set `[hidden] { display: none !important; }` so we also need the `!important` here to be able to override the default hidden behavior on the sphinx rendered scikit-learn.org. See: https://github.com/scikit-learn/scikit-learn/issues/21755 */display: inline-block !important;position: relative;}#sk-container-id-1 div.sk-text-repr-fallback {display: none;}</style><div id=\"sk-container-id-1\" class=\"sk-top-container\"><div class=\"sk-text-repr-fallback\"><pre>OneHotEncoder(cols=[&#x27;payment_type&#x27;, &#x27;employment_status&#x27;, &#x27;housing_status&#x27;,\n",
       "                    &#x27;source&#x27;, &#x27;device_os&#x27;])</pre><b>In a Jupyter environment, please rerun this cell to show the HTML representation or trust the notebook. <br />On GitHub, the HTML representation is unable to render, please try loading this page with nbviewer.org.</b></div><div class=\"sk-container\" hidden><div class=\"sk-item\"><div class=\"sk-estimator sk-toggleable\"><input class=\"sk-toggleable__control sk-hidden--visually\" id=\"sk-estimator-id-1\" type=\"checkbox\" checked><label for=\"sk-estimator-id-1\" class=\"sk-toggleable__label sk-toggleable__label-arrow\">OneHotEncoder</label><div class=\"sk-toggleable__content\"><pre>OneHotEncoder(cols=[&#x27;payment_type&#x27;, &#x27;employment_status&#x27;, &#x27;housing_status&#x27;,\n",
       "                    &#x27;source&#x27;, &#x27;device_os&#x27;])</pre></div></div></div></div></div>"
      ],
      "text/plain": [
       "OneHotEncoder(cols=['payment_type', 'employment_status', 'housing_status',\n",
       "                    'source', 'device_os'])"
      ]
     },
     "execution_count": 26,
     "metadata": {},
     "output_type": "execute_result"
    }
   ],
   "source": [
    "model"
   ]
  },
  {
   "cell_type": "code",
   "execution_count": 27,
   "id": "8d981406-fdab-4e36-82b3-4e37c24fee08",
   "metadata": {},
   "outputs": [],
   "source": [
    "X_train_t = model.transform(X_train, y_train)\n",
    "X_test_t = model.transform(X_test, y_test)\n",
    "# X_train_t.columns = list_columns_cat\n",
    "# X_test_t.columns = list_columns_cat"
   ]
  },
  {
   "cell_type": "code",
   "execution_count": 28,
   "id": "df3d408a-665c-4d38-a403-2d5fb61c2a00",
   "metadata": {},
   "outputs": [
    {
     "data": {
      "text/plain": [
       "52"
      ]
     },
     "execution_count": 28,
     "metadata": {},
     "output_type": "execute_result"
    }
   ],
   "source": [
    "len(list(X_train_t.columns))"
   ]
  },
  {
   "cell_type": "code",
   "execution_count": 29,
   "id": "5fd594bc-bb7d-4b4b-a1b7-1f03c3925017",
   "metadata": {},
   "outputs": [
    {
     "data": {
      "text/plain": [
       "{'payment_type_1': dtype('int64'),\n",
       " 'payment_type_2': dtype('int64'),\n",
       " 'payment_type_3': dtype('int64'),\n",
       " 'payment_type_4': dtype('int64'),\n",
       " 'payment_type_5': dtype('int64'),\n",
       " 'employment_status_1': dtype('int64'),\n",
       " 'employment_status_2': dtype('int64'),\n",
       " 'employment_status_3': dtype('int64'),\n",
       " 'employment_status_4': dtype('int64'),\n",
       " 'employment_status_5': dtype('int64'),\n",
       " 'employment_status_6': dtype('int64'),\n",
       " 'employment_status_7': dtype('int64'),\n",
       " 'housing_status_1': dtype('int64'),\n",
       " 'housing_status_2': dtype('int64'),\n",
       " 'housing_status_3': dtype('int64'),\n",
       " 'housing_status_4': dtype('int64'),\n",
       " 'housing_status_5': dtype('int64'),\n",
       " 'housing_status_6': dtype('int64'),\n",
       " 'housing_status_7': dtype('int64'),\n",
       " 'source_1': dtype('int64'),\n",
       " 'source_2': dtype('int64'),\n",
       " 'device_os_1': dtype('int64'),\n",
       " 'device_os_2': dtype('int64'),\n",
       " 'device_os_3': dtype('int64'),\n",
       " 'device_os_4': dtype('int64'),\n",
       " 'device_os_5': dtype('int64'),\n",
       " 'month_input': dtype('float64'),\n",
       " 'session_length_in_minutes_input': dtype('float64'),\n",
       " 'credit_risk_score_input': dtype('float64'),\n",
       " 'has_other_cards_input': dtype('float64'),\n",
       " 'name_email_similarity_input': dtype('float64'),\n",
       " 'bank_months_count_input': dtype('float64'),\n",
       " 'bank_branch_count_8w_input': dtype('float64'),\n",
       " 'proposed_credit_limit_input': dtype('float64'),\n",
       " 'velocity_4w_input': dtype('float64'),\n",
       " 'velocity_24h_input': dtype('float64'),\n",
       " 'date_of_birth_distinct_emails_4w_input': dtype('float64'),\n",
       " 'prev_address_months_count_input': dtype('float64'),\n",
       " 'foreign_request_input': dtype('float64'),\n",
       " 'intended_balcon_amount_input': dtype('float64'),\n",
       " 'zip_count_4w_input': dtype('float64'),\n",
       " 'velocity_6h_input': dtype('float64'),\n",
       " 'customer_age_input': dtype('float64'),\n",
       " 'keep_alive_session_input': dtype('float64'),\n",
       " 'phone_home_valid_input': dtype('float64'),\n",
       " 'phone_mobile_valid_input': dtype('float64'),\n",
       " 'current_address_months_count_input': dtype('float64'),\n",
       " 'income_input': dtype('float64'),\n",
       " 'device_fraud_count_input': dtype('float64'),\n",
       " 'device_distinct_emails_8w_input': dtype('float64'),\n",
       " 'days_since_request_input': dtype('float64'),\n",
       " 'email_is_free_input': dtype('float64')}"
      ]
     },
     "execution_count": 29,
     "metadata": {},
     "output_type": "execute_result"
    }
   ],
   "source": [
    "X_train_t.dtypes.to_dict()"
   ]
  },
  {
   "cell_type": "markdown",
   "id": "466ddd27-06ff-4cd1-beb6-b50ffdf38944",
   "metadata": {},
   "source": [
    "## EXPLICACIÓN"
   ]
  },
  {
   "cell_type": "markdown",
   "id": "c9e21e19-afed-49ef-af79-0542b2ddeca6",
   "metadata": {},
   "source": [
    "En primer lugar leemos los datos del notebook 2 soltando nuevamente la nueva columna que nos ha creado llamada Unnamed. \n",
    "\n",
    "\n",
    "El siguiente paso es la codificación de nuestra variable objetivo (fraud_bool), en la que nos aseguramos nuevamente de que fraud_bool está en type.float. Además, creamos un conjunto de entrenamiento y prueba excluyendo la columna 'fraud_bool_input' y después creamos la variable objetivo del conjunto de prueba y entrenamiento.\n",
    "\n",
    "\n",
    "Por último, nos centramos en la codificación del resto de variables categóricas dividiendo entre categóricas u otras. Los conjuntos de train y test son transformados utilizando el modelo aprendido. Después de esta transformación, las variables categóricas seleccionadas se  codifican one-hot, lo que significa que se han convertido en varias columnas binarias.\n",
    "\n",
    "\n",
    "En este trabajo hemos, llvadoé a cabo una preparación de datos queempiezaó desde la limpieza de valores nulos hasta la codificación one-hot paralas  variables.También, hemos realizadoé un análisis detallado de la distribución de variables y gestinamosé los valores atípicos.Posteriomente, hemos divididoí los datos en conjuntos detrain y testa, y reparadoé las variables para el modeor y la transformación de variables continuas.."
   ]
  }
 ],
 "metadata": {
  "kernelspec": {
   "display_name": "Python 3 (ipykernel)",
   "language": "python",
   "name": "python3"
  },
  "language_info": {
   "codemirror_mode": {
    "name": "ipython",
    "version": 3
   },
   "file_extension": ".py",
   "mimetype": "text/x-python",
   "name": "python",
   "nbconvert_exporter": "python",
   "pygments_lexer": "ipython3",
   "version": "3.9.18"
  }
 },
 "nbformat": 4,
 "nbformat_minor": 5
}
